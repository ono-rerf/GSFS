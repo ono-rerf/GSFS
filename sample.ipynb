{
  "nbformat": 4,
  "nbformat_minor": 0,
  "metadata": {
    "colab": {
      "provenance": [],
      "authorship_tag": "ABX9TyPLcx7vfOVH5DRFv3AO33Lw",
      "include_colab_link": true
    },
    "kernelspec": {
      "name": "python3",
      "display_name": "Python 3"
    },
    "language_info": {
      "name": "python"
    }
  },
  "cells": [
    {
      "cell_type": "markdown",
      "metadata": {
        "id": "view-in-github",
        "colab_type": "text"
      },
      "source": [
        "<a href=\"https://colab.research.google.com/github/ono-rerf/GSFS/blob/main/sample.ipynb\" target=\"_parent\"><img src=\"https://colab.research.google.com/assets/colab-badge.svg\" alt=\"Open In Colab\"/></a>"
      ]
    },
    {
      "cell_type": "code",
      "execution_count": null,
      "metadata": {
        "id": "Oxi_9uqjefGJ"
      },
      "outputs": [],
      "source": [
        "import numpy as np\n",
        "\n",
        "print('Hello Colab')\n",
        "print('Hello Again')"
      ]
    },
    {
      "cell_type": "code",
      "source": [
        "from ColabTurtlePlus.Turtle import *\n",
        "while True:\n",
        "  key = input('INPUT')\n",
        "  if key == 'r':\n",
        "    rt(90)\n",
        "  elif key == 'f':\n",
        "    fd(100)\n",
        "  elif key == 'l':\n",
        "    lt(45)\n",
        "  else:\n",
        "    break\n",
        "  "
      ],
      "metadata": {
        "id": "8clsJqltekm4"
      },
      "execution_count": null,
      "outputs": []
    },
    {
      "cell_type": "code",
      "source": [
        "!pip install ColabTurtlePlus"
      ],
      "metadata": {
        "id": "gpaNFSY3IG94"
      },
      "execution_count": null,
      "outputs": []
    },
    {
      "cell_type": "code",
      "source": [],
      "metadata": {
        "id": "RwfbsMa8IPGF"
      },
      "execution_count": null,
      "outputs": []
    }
  ]
}